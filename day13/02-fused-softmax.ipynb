{
  "cells": [
    {
      "cell_type": "markdown",
      "metadata": {},
      "source": [
        "\n",
        "# Fused Softmax\n",
        "\n",
        "In this tutorial, you will write a fused softmax operation that is significantly faster\n",
        "than PyTorch's native op for a particular class of matrices: those whose rows can fit in\n",
        "the GPU's SRAM.\n",
        "\n",
        "In doing so, you will learn about:\n",
        "\n",
        "* The benefits of kernel fusion for bandwidth-bound operations.\n",
        "\n",
        "* Reduction operators in Triton.\n"
      ]
    },
    {
      "cell_type": "markdown",
      "metadata": {},
      "source": [
        "## Motivations\n",
        "\n",
        "Custom GPU kernels for elementwise additions are educationally valuable but won't get you very far in practice.\n",
        "Let us consider instead the case of a simple (numerically stabilized) softmax operation:\n",
        "\n"
      ]
    },
    {
      "cell_type": "code",
      "execution_count": 6,
      "metadata": {
        "collapsed": false
      },
      "outputs": [],
      "source": [
        "import torch\n",
        "\n",
        "import triton\n",
        "import triton.language as tl\n",
        "from triton.runtime import driver\n",
        "\n",
        "DEVICE = torch.cuda.current_device()\n",
        "\n",
        "def is_hip():\n",
        "    return triton.runtime.driver.active.get_current_target().backend == \"hip\"\n",
        "\n",
        "\n",
        "def is_cdna():\n",
        "    return is_hip() and triton.runtime.driver.active.get_current_target().arch in ('gfx940', 'gfx941', 'gfx942',\n",
        "                                                                                   'gfx90a', 'gfx908')\n",
        "\n",
        "\n",
        "def naive_softmax(x):\n",
        "    \"\"\"Compute row-wise softmax of X using native pytorch\n",
        "\n",
        "    We subtract the maximum element in order to avoid overflows. Softmax is invariant to\n",
        "    this shift.\n",
        "    \"\"\"\n",
        "    # read  MN elements ; write M  elements\n",
        "    x_max = x.max(dim=1)[0]\n",
        "    # read MN + M elements ; write MN elements\n",
        "    z = x - x_max[:, None]\n",
        "    # read  MN elements ; write MN elements\n",
        "    numerator = torch.exp(z)\n",
        "    # read  MN elements ; write M  elements\n",
        "    denominator = numerator.sum(dim=1)\n",
        "    # read MN + M elements ; write MN elements\n",
        "    ret = numerator / denominator[:, None]\n",
        "    # in total: read 5MN + 2M elements ; wrote 3MN + 2M elements\n",
        "    return ret"
      ]
    },
    {
      "cell_type": "markdown",
      "metadata": {},
      "source": [
        "When implemented naively in PyTorch, computing :code:`y = naive_softmax(x)` for $x \\in R^{M \\times N}$\n",
        "requires reading $5MN + 2M$ elements from DRAM and writing back $3MN + 2M$ elements.\n",
        "This is obviously wasteful; we'd prefer to have a custom \"fused\" kernel that only reads\n",
        "X once and does all the necessary computations on-chip.\n",
        "Doing so would require reading and writing back only $MN$ bytes, so we could\n",
        "expect a theoretical speed-up of ~4x (i.e., $(8MN + 4M) / 2MN$).\n",
        "The `torch.jit.script` flags aims to perform this kind of \"kernel fusion\" automatically\n",
        "but, as we will see later, it is still far from ideal.\n",
        "\n"
      ]
    },
    {
      "cell_type": "markdown",
      "metadata": {},
      "source": [
        "## Compute Kernel\n",
        "\n",
        "Our softmax kernel works as follows: each program loads a set of rows of the input matrix X strided by number of programs,\n",
        "normalizes it and writes back the result to the output Y.\n",
        "\n",
        "Note that one important limitation of Triton is that each block must have a\n",
        "power-of-two number of elements, so we need to internally \"pad\" each row and guard the\n",
        "memory operations properly if we want to handle any possible input shapes:\n",
        "\n"
      ]
    },
    {
      "cell_type": "code",
      "execution_count": 7,
      "metadata": {
        "collapsed": false
      },
      "outputs": [],
      "source": [
        "@triton.jit\n",
        "def softmax_kernel(output_ptr, input_ptr, input_row_stride, output_row_stride, n_rows, n_cols, BLOCK_SIZE: tl.constexpr,\n",
        "                   num_stages: tl.constexpr):\n",
        "    # starting row of the program\n",
        "    row_start = tl.program_id(0)\n",
        "    row_step = tl.num_programs(0)\n",
        "    for row_idx in tl.range(row_start, n_rows, row_step, num_stages=num_stages):\n",
        "        # The stride represents how much we need to increase the pointer to advance 1 row\n",
        "        row_start_ptr = input_ptr + row_idx * input_row_stride\n",
        "        # The block size is the next power of two greater than n_cols, so we can fit each\n",
        "        # row in a single block\n",
        "        col_offsets = tl.arange(0, BLOCK_SIZE)\n",
        "        input_ptrs = row_start_ptr + col_offsets\n",
        "        # Load the row into SRAM, using a mask since BLOCK_SIZE may be > than n_cols\n",
        "        mask = col_offsets < n_cols\n",
        "        row = tl.load(input_ptrs, mask=mask, other=-float('inf'))\n",
        "        # Subtract maximum for numerical stability\n",
        "        row_minus_max = row - tl.max(row, axis=0)\n",
        "        # Note that exponentiation in Triton is fast but approximate (i.e., think __expf in CUDA)\n",
        "        numerator = tl.exp(row_minus_max)\n",
        "        denominator = tl.sum(numerator, axis=0)\n",
        "        softmax_output = numerator / denominator\n",
        "        # Write back output to DRAM\n",
        "        output_row_start_ptr = output_ptr + row_idx * output_row_stride\n",
        "        output_ptrs = output_row_start_ptr + col_offsets\n",
        "        tl.store(output_ptrs, softmax_output, mask=mask)"
      ]
    },
    {
      "cell_type": "markdown",
      "metadata": {},
      "source": [
        "We can create a helper function that enqueues the kernel and its (meta-)arguments for any given input tensor.\n",
        "\n"
      ]
    },
    {
      "cell_type": "code",
      "execution_count": null,
      "metadata": {
        "collapsed": false
      },
      "outputs": [
        {
          "ename": "TypeError",
          "evalue": "'torch._C._CudaDeviceProperties' object is not subscriptable",
          "output_type": "error",
          "traceback": [
            "\u001b[0;31m---------------------------------------------------------------------------\u001b[0m",
            "\u001b[0;31mTypeError\u001b[0m                                 Traceback (most recent call last)",
            "Cell \u001b[0;32mIn[10], line 6\u001b[0m\n\u001b[1;32m      3\u001b[0m \u001b[38;5;66;03m# Get properties from PyTorch API\u001b[39;00m\n\u001b[1;32m      4\u001b[0m properties \u001b[38;5;241m=\u001b[39m torch\u001b[38;5;241m.\u001b[39mcuda\u001b[38;5;241m.\u001b[39mget_device_properties(DEVICE\u001b[38;5;241m.\u001b[39mindex)\n\u001b[0;32m----> 6\u001b[0m NUM_SM \u001b[38;5;241m=\u001b[39m \u001b[43mproperties\u001b[49m\u001b[43m[\u001b[49m\u001b[38;5;124;43m\"\u001b[39;49m\u001b[38;5;124;43mmultiprocessor_count\u001b[39;49m\u001b[38;5;124;43m\"\u001b[39;49m\u001b[43m]\u001b[49m\n\u001b[1;32m      7\u001b[0m NUM_REGS \u001b[38;5;241m=\u001b[39m properties[\u001b[38;5;124m\"\u001b[39m\u001b[38;5;124mmax_num_regs\u001b[39m\u001b[38;5;124m\"\u001b[39m]\n\u001b[1;32m      8\u001b[0m SIZE_SMEM \u001b[38;5;241m=\u001b[39m properties[\u001b[38;5;124m\"\u001b[39m\u001b[38;5;124mmax_shared_mem\u001b[39m\u001b[38;5;124m\"\u001b[39m]\n",
            "\u001b[0;31mTypeError\u001b[0m: 'torch._C._CudaDeviceProperties' object is not subscriptable"
          ]
        }
      ],
      "source": [
        "DEVICE = torch.device(\"cuda:0\")  # or \"cuda\" for default\n",
        "\n",
        "# Get properties from PyTorch API\n",
        "properties = torch.cuda.get_device_properties(DEVICE.index)\n",
        "\n",
        "NUM_SM     = properties.multi_processor_count\n",
        "NUM_REGS   = properties.regs_per_block\n",
        "SIZE_SMEM  = properties.shared_memory_per_block\n",
        "WARP_SIZE  = properties.warp_size\n",
        "\n",
        "target = triton.runtime.driver.active.get_current_target()\n",
        "kernels = {}\n",
        "\n",
        "def softmax(x):\n",
        "    n_rows, n_cols = x.shape\n",
        "\n",
        "    # The block size of each loop iteration is the smallest power of two greater than the number of columns in `x`\n",
        "    BLOCK_SIZE = triton.next_power_of_2(n_cols)\n",
        "\n",
        "    # Another trick we can use is to ask the compiler to use more threads per row by\n",
        "    # increasing the number of warps (`num_warps`) over which each row is distributed.\n",
        "    # You will see in the next tutorial how to auto-tune this value in a more natural\n",
        "    # way so you don't have to come up with manual heuristics yourself.\n",
        "    num_warps = 8\n",
        "\n",
        "    # Number of software pipelining stages.\n",
        "    num_stages = 4 if SIZE_SMEM > 200000 else 2\n",
        "\n",
        "    # Allocate output\n",
        "    y = torch.empty_like(x)\n",
        "\n",
        "    # pre-compile kernel to get register usage and compute thread occupancy.\n",
        "    kernel = softmax_kernel.warmup(y, x, x.stride(0), y.stride(0), n_rows, n_cols, BLOCK_SIZE=BLOCK_SIZE,\n",
        "                                   num_stages=num_stages, num_warps=num_warps, grid=(1, ))\n",
        "    kernel._init_handles()\n",
        "    n_regs = kernel.n_regs\n",
        "    size_smem = kernel.metadata.shared\n",
        "    if is_hip():\n",
        "        # NUM_REGS represents the number of regular purpose registers. On CDNA architectures this is half of all registers available.\n",
        "        # However, this is not always the case. In most cases all registers can be used as regular purpose registers.\n",
        "        # ISA SECTION (3.6.4 for CDNA3)\n",
        "        # VGPRs are allocated out of two pools: regular VGPRs and accumulation VGPRs. Accumulation VGPRs are used\n",
        "        # with matrix VALU instructions, and can also be loaded directly from memory. A wave may have up to 512 total\n",
        "        # VGPRs, 256 of each type. When a wave has fewer than 512 total VGPRs, the number of each type is flexible - it is\n",
        "        # not required to be equal numbers of both types.\n",
        "        if is_cdna():\n",
        "            NUM_GPRS = NUM_REGS * 2\n",
        "\n",
        "        # MAX_NUM_THREADS represents maximum number of resident threads per multi-processor.\n",
        "        # When we divide this number with WARP_SIZE we get maximum number of waves that can\n",
        "        # execute on a CU (multi-processor)  in parallel.\n",
        "        MAX_NUM_THREADS = properties[\"max_threads_per_sm\"]\n",
        "        max_num_waves = MAX_NUM_THREADS // WARP_SIZE\n",
        "        occupancy = min(NUM_GPRS // WARP_SIZE // n_regs, max_num_waves) // num_warps\n",
        "    else:\n",
        "        occupancy = NUM_REGS // (n_regs * WARP_SIZE * num_warps)\n",
        "    occupancy = min(occupancy, SIZE_SMEM // size_smem)\n",
        "    num_programs = NUM_SM * occupancy\n",
        "\n",
        "    num_programs = min(num_programs, n_rows)\n",
        "\n",
        "    # Create a number of persistent programs.\n",
        "    kernel[(num_programs, 1, 1)](y, x, x.stride(0), y.stride(0), n_rows, n_cols, BLOCK_SIZE, num_stages)\n",
        "    return y"
      ]
    },
    {
      "cell_type": "markdown",
      "metadata": {},
      "source": [
        "## Unit Test\n",
        "\n"
      ]
    },
    {
      "cell_type": "markdown",
      "metadata": {},
      "source": [
        "We make sure that we test our kernel on a matrix with an irregular number of rows and columns.\n",
        "This will allow us to verify that our padding mechanism works.\n",
        "\n"
      ]
    },
    {
      "cell_type": "code",
      "execution_count": null,
      "metadata": {
        "collapsed": false
      },
      "outputs": [],
      "source": [
        "torch.manual_seed(0)\n",
        "x = torch.randn(1823, 781, device=DEVICE)\n",
        "y_triton = softmax(x)\n",
        "y_torch = torch.softmax(x, axis=1)\n",
        "assert torch.allclose(y_triton, y_torch), (y_triton, y_torch)"
      ]
    },
    {
      "cell_type": "markdown",
      "metadata": {},
      "source": [
        "As expected, the results are identical.\n",
        "\n"
      ]
    },
    {
      "cell_type": "markdown",
      "metadata": {},
      "source": [
        "## Benchmark\n",
        "\n",
        "Here we will benchmark our operation as a function of the number of columns in the input matrix -- assuming 4096 rows.\n",
        "We will then compare its performance against (1) :code:`torch.softmax` and (2) the :code:`naive_softmax` defined above.\n",
        "\n"
      ]
    },
    {
      "cell_type": "code",
      "execution_count": null,
      "metadata": {
        "collapsed": false
      },
      "outputs": [],
      "source": [
        "@triton.testing.perf_report(\n",
        "    triton.testing.Benchmark(\n",
        "        x_names=['N'],  # argument names to use as an x-axis for the plot\n",
        "        x_vals=[128 * i for i in range(2, 100)],  # different possible values for `x_name`\n",
        "        line_arg='provider',  # argument name whose value corresponds to a different line in the plot\n",
        "        line_vals=['triton', 'torch'],  # possible values for `line_arg``\n",
        "        line_names=[\n",
        "            \"Triton\",\n",
        "            \"Torch\",\n",
        "        ],  # label name for the lines\n",
        "        styles=[('blue', '-'), ('green', '-')],  # line styles\n",
        "        ylabel=\"GB/s\",  # label name for the y-axis\n",
        "        plot_name=\"softmax-performance\",  # name for the plot. Used also as a file name for saving the plot.\n",
        "        args={'M': 4096},  # values for function arguments not in `x_names` and `y_name`\n",
        "    ))\n",
        "def benchmark(M, N, provider):\n",
        "    x = torch.randn(M, N, device=DEVICE, dtype=torch.float32)\n",
        "    stream = getattr(torch, DEVICE.type).Stream()\n",
        "    getattr(torch, DEVICE.type).set_stream(stream)\n",
        "    if provider == 'torch':\n",
        "        ms = triton.testing.do_bench(lambda: torch.softmax(x, axis=-1))\n",
        "    if provider == 'triton':\n",
        "        ms = triton.testing.do_bench(lambda: softmax(x))\n",
        "    gbps = lambda ms: 2 * x.numel() * x.element_size() * 1e-9 / (ms * 1e-3)\n",
        "    return gbps(ms)\n",
        "\n",
        "\n",
        "benchmark.run(show_plots=True, print_data=True)"
      ]
    },
    {
      "cell_type": "markdown",
      "metadata": {},
      "source": [
        "In the above plot, we can see that:\n",
        " - Triton is 4x faster than the Torch JIT. This confirms our suspicions that the Torch JIT does not do any fusion here.\n",
        " - Triton is noticeably faster than :code:`torch.softmax` -- in addition to being **easier to read, understand and maintain**.\n",
        "   Note however that the PyTorch `softmax` operation is more general and will work on tensors of any shape.\n",
        "\n"
      ]
    }
  ],
  "metadata": {
    "kernelspec": {
      "display_name": "cuda_env",
      "language": "python",
      "name": "python3"
    },
    "language_info": {
      "codemirror_mode": {
        "name": "ipython",
        "version": 3
      },
      "file_extension": ".py",
      "mimetype": "text/x-python",
      "name": "python",
      "nbconvert_exporter": "python",
      "pygments_lexer": "ipython3",
      "version": "3.12.3"
    }
  },
  "nbformat": 4,
  "nbformat_minor": 0
}
